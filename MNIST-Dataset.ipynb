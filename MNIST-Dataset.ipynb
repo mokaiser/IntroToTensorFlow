{
 "cells": [
  {
   "cell_type": "markdown",
   "metadata": {},
   "source": [
    "Exercise 3\n",
    "In the videos you looked at how you would improve Fashion MNIST using Convolutions. For your exercise see if you can improve MNIST to 99.8% accuracy or more using only a single convolutional layer and a single MaxPooling 2D. You should stop training once the accuracy goes above this amount. It should happen in less than 20 epochs, so it's ok to hard code the number of epochs for training, but your training must end once it hits the above metric. If it doesn't, then you'll need to redesign your layers.\n",
    "\n",
    "I've started the code for you -- you need to finish it!\n",
    "\n",
    "When 99.8% accuracy has been hit, you should print out the string \"Reached 99.8% accuracy so cancelling training!\""
   ]
  },
  {
   "cell_type": "code",
   "execution_count": 6,
   "metadata": {},
   "outputs": [],
   "source": [
    "import tensorflow as tf\n",
    "\n",
    "# YOUR CODE STARTS HERE\n",
    "def train_mnist():\n",
    "    class myCallback(tf.keras.callbacks.Callback):\n",
    "        def on_epoch_end(self, epoch, logs = {}):\n",
    "            if(logs.get('acc') > .998):\n",
    "                print('\\nReached 99.8% accuracy so cancelling training!')\n",
    "                self.model.stop_training = True\n",
    "    callbacks = myCallback()\n",
    "    # YOUR CODE ENDS HERE\n",
    "\n",
    "    mnist = tf.keras.datasets.mnist\n",
    "    (training_images, training_labels), (test_images, test_labels) = mnist.load_data()\n",
    "    # YOUR CODE STARTS HERE\n",
    "    training_images = training_images.reshape(60000, 28, 28, 1)\n",
    "    training_images = training_images / 255.0\n",
    "    test_images = test_images.reshape(10000, 28, 28, 1)\n",
    "    test_images = test_images / 255.0\n",
    "    # YOUR CODE ENDS HERE\n",
    "\n",
    "    model = tf.keras.models.Sequential([\n",
    "        # YOUR CODE STARTS HERE\n",
    "        tf.keras.layers.Conv2D(64, (3,3), activation='relu',\n",
    "                               input_shape=(28,28,1)),\n",
    "        tf.keras.layers.MaxPooling2D(2,2),\n",
    "        tf.keras.layers.Conv2D(64,(3,3),activation='relu'),\n",
    "        tf.keras.layers.MaxPooling2D(2,2),\n",
    "        tf.keras.layers.Flatten(),\n",
    "        tf.keras.layers.Dense(128, activation='relu'),\n",
    "        tf.keras.layers.Dense(10, activation='softmax')\n",
    "        # YOUR CODE ENDS HERE\n",
    "    ])\n",
    "\n",
    "    # YOUR CODE STARTS HERE\n",
    "    model.compile(optimizer='adam', loss='sparse_categorical_crossentropy',metrics=['acc'])\n",
    "    model.summary()\n",
    "    model.fit(training_images, training_labels, epochs = 20, callbacks = [callbacks])\n",
    "    # YOUR CODE ENDS HERE"
   ]
  },
  {
   "cell_type": "code",
   "execution_count": 7,
   "metadata": {},
   "outputs": [
    {
     "name": "stdout",
     "output_type": "stream",
     "text": [
      "_________________________________________________________________\n",
      "Layer (type)                 Output Shape              Param #   \n",
      "=================================================================\n",
      "conv2d_3 (Conv2D)            (None, 26, 26, 64)        640       \n",
      "_________________________________________________________________\n",
      "max_pooling2d_3 (MaxPooling2 (None, 13, 13, 64)        0         \n",
      "_________________________________________________________________\n",
      "conv2d_4 (Conv2D)            (None, 11, 11, 64)        36928     \n",
      "_________________________________________________________________\n",
      "max_pooling2d_4 (MaxPooling2 (None, 5, 5, 64)          0         \n",
      "_________________________________________________________________\n",
      "flatten_2 (Flatten)          (None, 1600)              0         \n",
      "_________________________________________________________________\n",
      "dense_4 (Dense)              (None, 128)               204928    \n",
      "_________________________________________________________________\n",
      "dense_5 (Dense)              (None, 10)                1290      \n",
      "=================================================================\n",
      "Total params: 243,786\n",
      "Trainable params: 243,786\n",
      "Non-trainable params: 0\n",
      "_________________________________________________________________\n",
      "Epoch 1/20\n",
      "60000/60000 [==============================] - 68s 1ms/sample - loss: 0.1204 - acc: 0.9634\n",
      "Epoch 2/20\n",
      "60000/60000 [==============================] - 73s 1ms/sample - loss: 0.0381 - acc: 0.9883\n",
      "Epoch 3/20\n",
      "60000/60000 [==============================] - 82s 1ms/sample - loss: 0.0267 - acc: 0.9915\n",
      "Epoch 4/20\n",
      "60000/60000 [==============================] - 74s 1ms/sample - loss: 0.0200 - acc: 0.9937\n",
      "Epoch 5/20\n",
      "60000/60000 [==============================] - 79s 1ms/sample - loss: 0.0152 - acc: 0.9949\n",
      "Epoch 6/20\n",
      "60000/60000 [==============================] - 75s 1ms/sample - loss: 0.0123 - acc: 0.9959\n",
      "Epoch 7/20\n",
      "60000/60000 [==============================] - 71s 1ms/sample - loss: 0.0096 - acc: 0.9970\n",
      "Epoch 8/20\n",
      "60000/60000 [==============================] - 71s 1ms/sample - loss: 0.0081 - acc: 0.9974\n",
      "Epoch 9/20\n",
      "60000/60000 [==============================] - 72s 1ms/sample - loss: 0.0065 - acc: 0.9980\n",
      "Epoch 10/20\n",
      "60000/60000 [==============================] - 72s 1ms/sample - loss: 0.0066 - acc: 0.9977\n",
      "Epoch 11/20\n",
      "59968/60000 [============================>.] - ETA: 0s - loss: 0.0054 - acc: 0.9982\n",
      "Reached 99.8% accuracy so cancelling training!\n",
      "60000/60000 [==============================] - 72s 1ms/sample - loss: 0.0054 - acc: 0.9982\n"
     ]
    }
   ],
   "source": [
    "train_mnist()"
   ]
  },
  {
   "cell_type": "code",
   "execution_count": null,
   "metadata": {},
   "outputs": [],
   "source": []
  }
 ],
 "metadata": {
  "kernelspec": {
   "display_name": "Python 3",
   "language": "python",
   "name": "python3"
  },
  "language_info": {
   "codemirror_mode": {
    "name": "ipython",
    "version": 3
   },
   "file_extension": ".py",
   "mimetype": "text/x-python",
   "name": "python",
   "nbconvert_exporter": "python",
   "pygments_lexer": "ipython3",
   "version": "3.7.4"
  }
 },
 "nbformat": 4,
 "nbformat_minor": 2
}
